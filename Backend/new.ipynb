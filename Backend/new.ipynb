{
 "cells": [
  {
   "cell_type": "code",
   "execution_count": null,
   "id": "7372c388",
   "metadata": {},
   "outputs": [
    {
     "name": "stdout",
     "output_type": "stream",
     "text": [
      "✅ Data imported successfully!\n"
     ]
    }
   ],
   "source": [
    "import csv\n",
    "import mysql.connector\n",
    "\n",
    "db_config = {\n",
    "    \"host\": \"localhost\",\n",
    "    \"user\": \"root\",\n",
    "    \"password\": \"V3nkatesh\",\n",
    "    \"database\": \"colleges\"\n",
    "}\n",
    "\n",
    "csv_file_path = \"Indian_Engineering_Colleges_Dataset.csv\"\n",
    "table_name = \"indian_engineering_colleges\"\n",
    "\n",
    "# Define your columns exactly as per the table (excluding Unnamed: 0)\n",
    "columns = [\n",
    "    \"College_Name\", \"State\", \"UG_fee\", \"PG_fee\", \"Rating\",\n",
    "    \"Academic\", \"Accommodation\", \"Faculty\", \"Infrastructure\",\n",
    "    \"Placement\", \"Social_Life\"\n",
    "]\n",
    "\n",
    "try:\n",
    "    cnx = mysql.connector.connect(**db_config)\n",
    "    cursor = cnx.cursor()\n",
    "\n",
    "    insert_query = f\"INSERT INTO {table_name} VALUES ({', '.join(['%s'] * len(columns))})\"\n",
    "\n",
    "    with open(csv_file_path, mode='r', encoding='utf-8') as csvfile:\n",
    "        reader = csv.DictReader(csvfile)\n",
    "        row_count = 0\n",
    "        skipped = 0\n",
    "\n",
    "        for row in reader:\n",
    "            try:\n",
    "                values = [row[col] for col in columns]\n",
    "                if len(values) == len(columns):\n",
    "                    cursor.execute(insert_query, values)\n",
    "                    row_count += 1\n",
    "                else:\n",
    "                    skipped += 1\n",
    "            except Exception as e:\n",
    "                print(f\"Skipping row due to error: {e}\")\n",
    "                skipped += 1\n",
    "\n",
    "    cnx.commit()\n",
    "    print(f\"✅ Imported {row_count} rows.\")\n",
    "    if skipped > 0:\n",
    "        print(f\"⚠️ Skipped {skipped} rows due to missing or bad data.\")\n",
    "\n",
    "except mysql.connector.Error as err:\n",
    "    print(f\"❌ MySQL Error: {err}\")\n",
    "\n",
    "finally:\n",
    "    if 'cnx' in locals() and cnx.is_connected():\n",
    "        cursor.close()\n",
    "        cnx.close()\n"
   ]
  }
 ],
 "metadata": {
  "kernelspec": {
   "display_name": "Python 3",
   "language": "python",
   "name": "python3"
  },
  "language_info": {
   "codemirror_mode": {
    "name": "ipython",
    "version": 3
   },
   "file_extension": ".py",
   "mimetype": "text/x-python",
   "name": "python",
   "nbconvert_exporter": "python",
   "pygments_lexer": "ipython3",
   "version": "3.12.2"
  }
 },
 "nbformat": 4,
 "nbformat_minor": 5
}
